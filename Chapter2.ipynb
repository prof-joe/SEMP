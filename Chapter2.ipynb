{
 "cells": [
  {
   "cell_type": "markdown",
   "metadata": {},
   "source": [
    "## Chapter 2 Generalized Linear Regression"
   ]
  },
  {
   "cell_type": "code",
   "execution_count": 4,
   "metadata": {},
   "outputs": [
    {
     "name": "stderr",
     "output_type": "stream",
     "text": [
      "C:\\Users\\prof-\\anaconda3\\lib\\site-packages\\japanize_matplotlib\\japanize_matplotlib.py:15: MatplotlibDeprecationWarning: \n",
      "The createFontList function was deprecated in Matplotlib 3.2 and will be removed two minor releases later. Use FontManager.addfont instead.\n",
      "  font_list = font_manager.createFontList(font_files)\n"
     ]
    }
   ],
   "source": [
    "import copy\n",
    "import japanize_matplotlib\n",
    "%matplotlib inline\n",
    "import matplotlib.pyplot as plt\n",
    "import numpy as np\n",
    "import scipy\n",
    "from matplotlib.pyplot import imshow\n",
    "from numpy.random import randn\n",
    "from scipy import stats"
   ]
  },
  {
   "cell_type": "markdown",
   "metadata": {},
   "source": [
    "## 2.1 Generalization of Lasso in Linear Regression"
   ]
  },
  {
   "cell_type": "code",
   "execution_count": 5,
   "metadata": {},
   "outputs": [],
   "source": [
    "def W_linear_lasso(X, y, W, lam=0):\n",
    "    n, p = X.shape\n",
    "    X_bar = np.zeros(p)\n",
    "    for k in range(p):\n",
    "        X_bar[k] = np.sum(np.dot(W, X[:, k])) / np.sum(W)\n",
    "        X[:, k] = X[:, k] - X_bar[k]\n",
    "    y_bar = np.sum(np.dot(W, y)) / np.sum(W)\n",
    "    y = y - y_bar\n",
    "    L = np.linalg.cholesky(W)  #\n",
    "#   L = np.sqrt(W)\n",
    "    u = np.dot(L, y)\n",
    "    V = np.dot(L, X)\n",
    "    beta, beta_0 = linear_lasso(V, u, lam)\n",
    "    beta_0 = y_bar - np.dot(X_bar, beta)\n",
    "    return beta_0, beta"
   ]
  },
  {
   "cell_type": "markdown",
   "metadata": {},
   "source": [
    "# 2.2 Logistic Regression for Binary Values"
   ]
  },
  {
   "cell_type": "code",
   "execution_count": 6,
   "metadata": {},
   "outputs": [],
   "source": [
    "def f(x):\n",
    "    return np.exp(beta_0 + np.dot(beta, x)) / (1 + np.exp(beta_0 + np.dot(beta, x)))"
   ]
  },
  {
   "cell_type": "code",
   "execution_count": 7,
   "metadata": {},
   "outputs": [
    {
     "data": {
      "text/plain": [
       "<matplotlib.legend.Legend at 0x1c3296327c0>"
      ]
     },
     "execution_count": 7,
     "metadata": {},
     "output_type": "execute_result"
    },
    {
     "data": {
      "image/png": "[encoded data removed]",
      "text/plain": [
       "<Figure size 432x288 with 1 Axes>"
      ]
     },
     "metadata": {
      "needs_background": "light"
     },
     "output_type": "display_data"
    }
   ],
   "source": [
    "beta_0 = 0\n",
    "beta_seq = np.array([0, 0.2, 0.5, 1, 2, 10])\n",
    "m = len(beta_seq)\n",
    "x = np.arange(-10, 10)\n",
    "for i in range(m):\n",
    "    beta = beta_seq[i]\n",
    "    plt.plot(x, f(x), label=beta_seq[i])\n",
    "plt.title(\"Logistic Curve\")\n",
    "plt.xlabel(\"$x$\")\n",
    "plt.ylabel(\"$P(Y=1|x)$\")\n",
    "plt.legend()"
   ]
  },
  {
   "cell_type": "code",
   "execution_count": 8,
   "metadata": {},
   "outputs": [
    {
     "data": {
      "text/plain": [
       "array([-1.22159862, -0.28266342, -0.86123103])"
      ]
     },
     "execution_count": 8,
     "metadata": {},
     "output_type": "execute_result"
    }
   ],
   "source": [
    "# Data Generation\n",
    "N = 100\n",
    "p = 2\n",
    "X = np.random.randn(N, p)\n",
    "X = np.concatenate([np.ones(N).reshape(N, 1), X], axis=1)\n",
    "beta = np.random.randn(p+1)\n",
    "y = np.zeros(N)\n",
    "s = np.dot(X, beta)\n",
    "prob = 1 / (1 + np.exp(s))\n",
    "for i in range(N):\n",
    "    if np.random.rand(1) > prob[i]:\n",
    "        y[i] = 1\n",
    "    else:\n",
    "        y[i] = -1\n",
    "beta"
   ]
  },
  {
   "cell_type": "code",
   "execution_count": 9,
   "metadata": {},
   "outputs": [
    {
     "name": "stdout",
     "output_type": "stream",
     "text": [
      "[-0.77571434 -1.00600073 -1.42686351]\n",
      "[-1.49176335 -0.11551432 -0.16596346]\n",
      "[-1.47683983 -0.37360996 -0.61463091]\n",
      "[-1.55440605 -0.39879184 -0.64280176]\n",
      "[-1.55706022 -0.40033402 -0.64462064]\n"
     ]
    },
    {
     "data": {
      "text/plain": [
       "array([-1.55440605, -0.39879184, -0.64280176])"
      ]
     },
     "execution_count": 9,
     "metadata": {},
     "output_type": "execute_result"
    }
   ],
   "source": [
    "# Maximum Likelihood\n",
    "beta = np.inf\n",
    "gamma = np.random.randn(p + 1)\n",
    "while np.sum((beta - gamma) ** 2) > 0.001:\n",
    "    beta = gamma.copy()\n",
    "    s = np.dot(X, beta)\n",
    "    v = np.exp(-s * y)\n",
    "    u = y * v / (1 + v)\n",
    "    w = v / (1 + v)**2\n",
    "    z = s + u / w\n",
    "    W = np.diag(w)\n",
    "    gamma = np.dot(np.linalg.inv(X.T @ W @ X), np.dot(X.T @ W, z))       ##\n",
    "    print(gamma)\n",
    "beta  # True value that we want to estimate"
   ]
  },
  {
   "cell_type": "code",
   "execution_count": 12,
   "metadata": {},
   "outputs": [],
   "source": [
    "def logistic_lasso(X, y, lam):\n",
    "    p = X.shape[1]   # The # of columns of X\n",
    "    beta = np.inf\n",
    "    gamma = np.random.randn(p)\n",
    "    while np.sum((beta - gamma)**2) > 0.001:\n",
    "        beta = gamma.copy()\n",
    "        s = np.dot(X, beta)\n",
    "        v = np.exp(-s * y)\n",
    "        u = y * v / (1 + v)\n",
    "        w = v / (1 + v)**2\n",
    "        z = s + u / w\n",
    "        W = np.diag(w)\n",
    "        gamma_0, gamma_1 = W_linear_lasso(X[:, range(1, p)], z, W, lam=lam)\n",
    "        gamma = np.block([gamma_0, gamma_1]).copy()\n",
    "        print(gamma)\n",
    "    return gamma"
   ]
  },
  {
   "cell_type": "code",
   "execution_count": 16,
   "metadata": {},
   "outputs": [],
   "source": [
    "##  From Chapter 1\n",
    "def soft_th(lam, x):\n",
    "    return np.sign(x) * np.maximum(np.abs(x) - lam, np.zeros(1))\n",
    "def centralize(X0, y0, standardize=True):\n",
    "    X = copy.copy(X0)\n",
    "    y = copy.copy(y0)\n",
    "    n, p = X.shape\n",
    "    X_bar = np.zeros(p)                   # Mean of each column of X\n",
    "    X_sd = np.zeros(p)                    # SD of each column of X\n",
    "    for j in range(p):\n",
    "        X_bar[j] = np.mean(X[:, j])\n",
    "        X[:, j] = X[:, j] - X_bar[j]      # Centralize each column of X\n",
    "        X_sd[j] = np.std(X[:, j])\n",
    "        if standardize is True:\n",
    "            X[:, j] = X[:, j] / X_sd[j]   # Centralize each column of X\n",
    "    if np.ndim(y) == 2:\n",
    "        K = y.shape[1]\n",
    "        y_bar = np.zeros(K)               # Mean of y\n",
    "        for k in range(K):\n",
    "            y_bar[k] = np.mean(y[:, k])\n",
    "            y[:, k] = y[:, k] - y_bar[k]  # Centralize y\n",
    "    else:                                 # when y is a vector\n",
    "        y_bar = np.mean(y)\n",
    "        y = y - y_bar\n",
    "    return X, y, X_bar, X_sd, y_bar\n",
    "def linear_lasso(X, y, lam=0, beta=None):\n",
    "    n, p = X.shape\n",
    "    if beta is None:\n",
    "        beta = np.zeros(p)\n",
    "    X, y, X_bar, X_sd, y_bar = centralize(X, y)   # Centralize\n",
    "    eps = 1\n",
    "    beta_old = copy.copy(beta)\n",
    "    while eps > 0.00001:    # Wait the convergence of this loop\n",
    "        for j in range(p):\n",
    "            r = y\n",
    "            for k in range(p):\n",
    "                if j != k:\n",
    "                    r = r - X[:, k] * beta[k]\n",
    "            z = (np.dot(r, X[:, j]) / n) / (np.dot(X[:, j], X[:, j]) / n)\n",
    "            beta[j] = soft_th(lam, z)\n",
    "        eps = np.linalg.norm(beta - beta_old, 2)\n",
    "        beta_old = copy.copy(beta)\n",
    "    beta = beta / X_sd   # Recover the coefficients to before normalization\n",
    "    beta_0 = y_bar - np.dot(X_bar, beta)\n",
    "    return beta, beta_0"
   ]
  },
  {
   "cell_type": "code",
   "execution_count": 17,
   "metadata": {},
   "outputs": [
    {
     "name": "stdout",
     "output_type": "stream",
     "text": [
      "beta =\n",
      "[ 1.57392404  1.39208373 -0.96330724]\n",
      "[ 1.34242918  0.50054137 -0.7428512 ]\n",
      "[ 1.44506053  1.27924057 -1.13889946]\n",
      "[ 1.57498333  1.44973123 -1.29638992]\n",
      "[ 1.58871421  1.46526941 -1.31265452]\n"
     ]
    },
    {
     "data": {
      "text/plain": [
       "array([ 1.58871421,  1.46526941, -1.31265452])"
      ]
     },
     "execution_count": 17,
     "metadata": {},
     "output_type": "execute_result"
    }
   ],
   "source": [
    "N = 100\n",
    "p = 2\n",
    "X = np.random.randn(N, p)\n",
    "X = np.concatenate([np.ones(N).reshape(N, 1), X], axis=1)\n",
    "beta = np.random.randn(p + 1)\n",
    "print(\"beta =\"); print(beta)\n",
    "y = np.ones(N)\n",
    "s = np.dot(X, beta)\n",
    "prob = 1 / (1 + np.exp(s))\n",
    "for i in range(N):\n",
    "    if np.random.rand(1) > prob[i]:\n",
    "        y[i] = 1\n",
    "    else:\n",
    "        y[i] = -1\n",
    "logistic_lasso(X, y, 0)"
   ]
  },
  {
   "cell_type": "code",
   "execution_count": 18,
   "metadata": {},
   "outputs": [
    {
     "name": "stdout",
     "output_type": "stream",
     "text": [
      "[ 1.15085895  0.92341001 -0.62195273]\n",
      "[ 1.247316    0.94688772 -0.77020225]\n",
      "[ 1.2624972   0.95711775 -0.79572359]\n"
     ]
    },
    {
     "data": {
      "text/plain": [
       "array([ 1.2624972 ,  0.95711775, -0.79572359])"
      ]
     },
     "execution_count": 18,
     "metadata": {},
     "output_type": "execute_result"
    }
   ],
   "source": [
    "logistic_lasso(X, y, 0.1)"
   ]
  },
  {
   "cell_type": "code",
   "execution_count": 19,
   "metadata": {},
   "outputs": [
    {
     "name": "stdout",
     "output_type": "stream",
     "text": [
      "[ 1.52012928  0.         -0.69692991]\n",
      "[ 0.88221408  0.76159078 -0.35367898]\n",
      "[ 1.04231912  0.55964445 -0.37924865]\n",
      "[ 1.04780261  0.55482849 -0.39471363]\n"
     ]
    },
    {
     "data": {
      "text/plain": [
       "array([ 1.04780261,  0.55482849, -0.39471363])"
      ]
     },
     "execution_count": 19,
     "metadata": {},
     "output_type": "execute_result"
    }
   ],
   "source": [
    "logistic_lasso(X, y, 0.2)"
   ]
  },
  {
   "cell_type": "code",
   "execution_count": 20,
   "metadata": {},
   "outputs": [],
   "source": [
    "def table_count(m, u, v):\n",
    "    n = u.shape[0]\n",
    "    count = np.zeros([m, m])\n",
    "    for i in range(n):\n",
    "        count[int(u[i]), int(v[i])] += 1\n",
    "    return(count)"
   ]
  },
  {
   "cell_type": "code",
   "execution_count": 21,
   "metadata": {},
   "outputs": [
    {
     "name": "stdout",
     "output_type": "stream",
     "text": [
      "[-0.69526176  0.81118454  0.12185876]\n",
      "[-0.59887671  0.45649027  0.        ]\n",
      "[-0.52824985  0.92384003 -0.        ]\n",
      "[-0.5498305   1.03492222 -0.        ]\n",
      "[-0.55310105  1.05213675 -0.        ]\n"
     ]
    },
    {
     "data": {
      "text/plain": [
       "array([[55., 17.],\n",
       "       [15., 13.]])"
      ]
     },
     "execution_count": 21,
     "metadata": {},
     "output_type": "execute_result"
    }
   ],
   "source": [
    "# Data Generation\n",
    "N = 100\n",
    "p = 2\n",
    "X = np.random.randn(N, p)\n",
    "X = np.concatenate([np.ones(N).reshape(N, 1), X], axis=1)\n",
    "beta = np.random.randn(p+1)\n",
    "y = np.zeros(N)\n",
    "s = np.dot(X, beta)\n",
    "prob = 1 / (1 + np.exp(s))\n",
    "for i in range(N):\n",
    "    if np.random.rand(1) > prob[i]:\n",
    "        y[i] = 1\n",
    "    else:\n",
    "        y[i] = -1\n",
    "print(beta)\n",
    "# Parameter Estimation\n",
    "beta_est = logistic_lasso(X, y, 0.1)\n",
    "# Classification\n",
    "for i in range(N):\n",
    "    if np.random.rand(1) > prob[i]:\n",
    "        y[i] = 1\n",
    "    else:\n",
    "        y[i] = int(-1)\n",
    "z = np.sign(np.dot(X, beta_est))  # +1 and -1 when Exponent is positive and negative\n",
    "table_count(2, (y+1)/2, (z+1)/2)"
   ]
  },
  {
   "cell_type": "code",
   "execution_count": null,
   "metadata": {},
   "outputs": [],
   "source": [
    "# Linux（not available for Windows, Google Colaboratory）\n",
    "import numpy as np\n",
    "import matplotlib.pyplot as plt\n",
    "import glmnet_python\n",
    "from glmnet import glmnet\n",
    "import sys\n",
    "from cvglmnet import cvglmnet\n",
    "from cvglmnetCoef import cvglmnetCoef\n",
    "from cvglmnetPlot import cvglmnetPlot"
   ]
  },
  {
   "cell_type": "code",
   "execution_count": null,
   "metadata": {},
   "outputs": [],
   "source": [
    "# Put \"breastcancer.csv\" in a folder of Linux.\n",
    "x = np.loadtxt(\"breastcancer.csv\", delimiter=\",\", skiprows=1, usecols=range(1000))\n",
    "y = np.loadtxt(\"breastcancer.csv\", delimiter=\",\", skiprows=1, dtype=\"unicode\", usecols=1000)\n",
    "n = len(y)\n",
    "yy = np.ones(n)\n",
    "for i in range(n):\n",
    "    if y[i] == \"control\":\n",
    "        yy[i] = 1\n",
    "    else:\n",
    "        yy[i] = -1\n",
    "fit1 = cvglmnet(x=x.copy(), y=yy.copy(), ptype=\"deviance\", family=\"binomial\")\n",
    "fit2 = cvglmnet(x=x.copy(), y=yy.copy(), ptype=\"class\", family=\"binomial\")\n",
    "beta = cvglmnetCoef(fit1)\n",
    "np.sum(beta != 0)"
   ]
  },
  {
   "cell_type": "code",
   "execution_count": null,
   "metadata": {},
   "outputs": [],
   "source": [
    "# Make the CV graph.\n",
    "fig = plt.figure()\n",
    "cvglmnetPlot(fit1)\n",
    "fig.savefig(\"img1.png\")\n",
    "fig2 = plt.figure()\n",
    "cvglmnetPlot(fit2)\n",
    "fig2.savefig(\"img2.png\")\n",
    "# Observe that \"img1.png\", \"img2.png\" have been generated in the folder in the Linux machine"
   ]
  },
  {
   "cell_type": "markdown",
   "metadata": {},
   "source": [
    "# 2.3 Logistic Regression for Multiple Values"
   ]
  },
  {
   "cell_type": "code",
   "execution_count": 22,
   "metadata": {},
   "outputs": [],
   "source": [
    "def multi_lasso(X, y, lam):\n",
    "    n, p = X.shape\n",
    "    K = len(set(y))\n",
    "    beta = np.ones((K, p))\n",
    "    gamma = np.zeros((K, p))\n",
    "    while np.linalg.norm(beta - gamma, 2) > 0.1:\n",
    "        gamma = beta.copy()\n",
    "        for k in range(K):\n",
    "            r = 0\n",
    "            for h in range(K):\n",
    "                if (k != h):\n",
    "                    r = r + np.exp(np.dot(X, beta[h, :]))\n",
    "            v = np.exp(np.dot(X, beta[k, :])) / r\n",
    "            u = (y == k) - v / (1 + v)\n",
    "            w = v / (1 + v) ** 2\n",
    "            z = np.dot(X, beta[k, :]) + u / w\n",
    "            beta_0, beta_1 = W_linear_lasso(X[:, range(1, p)], z, np.diag(w), lam=lam)\n",
    "            beta[k, :] = np.block([beta_0, beta_1]).copy()\n",
    "    for j in range(p):\n",
    "        med = np.median(beta[:, j])\n",
    "        for h in range(K):\n",
    "            beta[h, j] = beta[h, j] - med\n",
    "    return beta"
   ]
  },
  {
   "cell_type": "code",
   "execution_count": 23,
   "metadata": {},
   "outputs": [
    {
     "name": "stdout",
     "output_type": "stream",
     "text": [
      "(150, 5)\n"
     ]
    },
    {
     "data": {
      "text/plain": [
       "array([[ 17.0749972 ,   6.41392673, -43.4161975 ],\n",
       "       [ 17.0749972 ,   6.1624002 , -40.7032929 ],\n",
       "       [ 17.85013141,   5.91087366, -42.33956761],\n",
       "       [ 16.29986299,   5.78511039, -40.20322342],\n",
       "       [ 17.0749972 ,   6.28816347, -43.84778607],\n",
       "       [ 13.99085341,   6.79121654, -40.43631166],\n",
       "       [ 16.69562662,   5.78511039, -41.03797286],\n",
       "       [ 16.29986299,   6.28816347, -42.05295087],\n",
       "       [ 17.0749972 ,   5.53358385, -39.79602285],\n",
       "       [ 16.67923356,   6.1624002 , -41.91201874],\n",
       "       [ 16.29986299,   6.79121654, -43.90267832],\n",
       "       [ 15.52472878,   6.03663693, -41.12129281],\n",
       "       [ 17.45436777,   6.03663693, -42.09496724],\n",
       "       [ 19.77977041,   5.40782058, -44.01785869],\n",
       "       [ 18.62526562,   7.29426962, -48.07169845],\n",
       "       [ 15.54112184,   7.16850635, -44.77469163],\n",
       "       [ 17.09139026,   6.79121654, -43.52870191],\n",
       "       [ 16.69562662,   6.41392673, -41.94524291],\n",
       "       [ 14.37022399,   7.16850635, -41.63423817],\n",
       "       [ 15.92049241,   6.41392673, -42.70475181],\n",
       "       [ 14.74959456,   6.79121654, -40.82387673],\n",
       "       [ 15.54112184,   6.41392673, -40.72292841],\n",
       "       [ 20.17553404,   5.78511039, -46.62305533],\n",
       "       [ 13.61148284,   6.41392673, -35.66230342],\n",
       "       [ 13.19932614,   6.03663693, -38.80200012],\n",
       "       [ 15.52472878,   6.28816347, -39.23637802],\n",
       "       [ 14.76598762,   6.28816347, -38.33794414],\n",
       "       [ 16.29986299,   6.53969   , -42.72238018],\n",
       "       [ 17.0749972 ,   6.53969   , -42.98460892],\n",
       "       [ 15.52472878,   5.91087366, -40.02027492],\n",
       "       [ 15.52472878,   6.03663693, -39.58868635],\n",
       "       [ 15.54112184,   6.79121654, -39.42816269],\n",
       "       [ 16.67923356,   6.53969   , -47.25854769],\n",
       "       [ 17.0749972 ,   6.91697981, -47.30940023],\n",
       "       [ 16.29986299,   6.1624002 , -40.44106416],\n",
       "       [ 18.62526562,   6.28816347, -43.35050591],\n",
       "       [ 17.85013141,   6.91697981, -44.50641605],\n",
       "       [ 17.45436777,   6.1624002 , -45.23946041],\n",
       "       [ 17.85013141,   5.53358385, -41.07998923],\n",
       "       [ 16.29986299,   6.41392673, -42.13223111],\n",
       "       [ 17.47076083,   6.28816347, -42.63906023],\n",
       "       [ 17.47076083,   5.65934712, -36.11223315],\n",
       "       [ 17.85013141,   5.53358385, -42.10172687],\n",
       "       [ 14.00724647,   6.28816347, -35.90690379],\n",
       "       [ 12.44058499,   6.41392673, -38.14140698],\n",
       "       [ 16.69562662,   6.03663693, -39.15305807],\n",
       "       [ 15.52472878,   6.41392673, -43.40260883],\n",
       "       [ 17.0749972 ,   5.78511039, -41.4871898 ],\n",
       "       [ 16.29986299,   6.66545327, -43.82339807],\n",
       "       [ 17.0749972 ,   6.28816347, -42.31517961],\n",
       "       [-13.05687868,   8.80342885,  -0.22624116],\n",
       "       [-11.88598083,   8.04884924,   0.17419978],\n",
       "       [-14.98651767,   8.67766558,   3.38105761],\n",
       "       [ -7.25156862,   6.91697981,  -1.3218556 ],\n",
       "       [-12.66111504,   8.1746125 ,   2.91149237],\n",
       "       [-11.12723968,   7.16850635,  -0.16927238],\n",
       "       [-13.81561983,   7.92308597,   2.75976091],\n",
       "       [ -0.68751742,   6.1624002 , -11.18158962],\n",
       "       [-11.90237389,   8.30037577,  -0.62056586],\n",
       "       [ -6.85580499,   6.53969   ,  -2.42963311],\n",
       "       [ -2.23778584,   6.28816347,  -7.67119947],\n",
       "       [ -9.5605782 ,   7.42003289,  -0.72695403],\n",
       "       [ -6.1134569 ,   7.54579616,  -5.62025177],\n",
       "       [-13.05687868,   7.67155943,   2.01988752],\n",
       "       [ -4.15103178,   7.04274308,  -7.55873901],\n",
       "       [-10.73147604,   8.42613904,  -1.79682429],\n",
       "       [-11.88598083,   7.04274308,   1.8301794 ],\n",
       "       [ -6.88859111,   7.29426962,  -7.24293781],\n",
       "       [-11.88598083,   7.7973227 ,   5.44144847],\n",
       "       [ -5.71769326,   7.04274308,  -6.13788022],\n",
       "       [-15.34949519,   7.42003289,   7.30275745],\n",
       "       [ -7.25156862,   7.67155943,  -4.35188118],\n",
       "       [-14.98651767,   7.92308597,   6.92195202],\n",
       "       [-12.29813752,   7.67155943,  -0.41115283],\n",
       "       [ -9.57697126,   8.04884924,  -2.78129805],\n",
       "       [-10.73147604,   8.30037577,  -1.20667522],\n",
       "       [-13.83201289,   8.55190231,   2.74889217],\n",
       "       [-16.52039304,   8.42613904,   7.76549366],\n",
       "       [-11.88598083,   7.54579616,   2.02392723],\n",
       "       [ -2.23778584,   7.16850635, -11.29137412],\n",
       "       [ -4.94255905,   6.91697981,  -6.32082871],\n",
       "       [ -3.78805426,   6.91697981,  -8.56488086],\n",
       "       [ -6.09706384,   7.29426962,  -5.84722377],\n",
       "       [-16.91615667,   7.54579616,   9.15520483],\n",
       "       [-11.88598083,   6.79121654,   1.98873989],\n",
       "       [-12.2653514 ,   7.54579616,   0.94053771],\n",
       "       [-13.43624925,   8.42613904,   1.99342298],\n",
       "       [-10.35210547,   7.92308597,   1.13629268],\n",
       "       [ -8.02670283,   7.04274308,  -4.20412002],\n",
       "       [ -7.25156862,   6.91697981,  -2.34359324],\n",
       "       [ -9.97273489,   6.91697981,  -1.23302639],\n",
       "       [-12.28174446,   7.67155943,   0.73592114],\n",
       "       [ -6.87219805,   7.29426962,  -4.56325738],\n",
       "       [ -0.68751742,   6.28816347, -10.75000105],\n",
       "       [ -8.80183704,   7.04274308,  -1.898416  ],\n",
       "       [ -8.42246647,   7.16850635,  -4.98125729],\n",
       "       [ -8.80183704,   7.16850635,  -2.99943389],\n",
       "       [ -9.57697126,   7.7973227 ,  -2.62273756],\n",
       "       [  1.25851464,   6.41392673, -12.69935704],\n",
       "       [ -8.02670283,   7.16850635,  -3.26166263],\n",
       "       [-27.30669975,   7.92308597,  26.04862048],\n",
       "       [-18.0542684 ,   7.29426962,  13.72662907],\n",
       "       [-25.01408324,   8.92919212,  20.29006907],\n",
       "       [-21.55056888,   7.92308597,  14.70302342],\n",
       "       [-24.6183196 ,   8.1746125 ,  21.46360757],\n",
       "       [-30.44002272,   9.55800847,  25.30535077],\n",
       "       [-12.64472198,   6.1624002 ,   7.88139439],\n",
       "       [-26.97650836,   9.18071866,  19.32190389],\n",
       "       [-23.1008373 ,   8.42613904,  17.97557284],\n",
       "       [-28.08183396,   9.05495539,  24.57558936],\n",
       "       [-18.43363897,   8.1746125 ,  12.08827783],\n",
       "       [-19.60453682,   8.04884924,  14.79714271],\n",
       "       [-21.91354639,   8.55190231,  17.43551956],\n",
       "       [-17.65850476,   7.16850635,  15.52550398],\n",
       "       [-19.95112128,   7.29426962,  20.57053317],\n",
       "       [-21.12201912,   8.04884924,  18.12661695],\n",
       "       [-20.77543467,   8.1746125 ,  13.26049655],\n",
       "       [-31.5945275 ,   9.68377174,  23.38317211],\n",
       "       [-33.5241665 ,   9.68377174,  32.53074766],\n",
       "       [-15.76165188,   7.54579616,   9.46549678],\n",
       "       [-24.22255597,   8.67766558,  20.82260596],\n",
       "       [-16.88337055,   7.04274308,  13.29908021],\n",
       "       [-30.83578635,   9.68377174,  25.54995114],\n",
       "       [-16.1246294 ,   7.92308597,  10.31307813],\n",
       "       [-23.46381482,   8.42613904,  17.52838847],\n",
       "       [-24.65110572,   9.05495539,  15.54928499],\n",
       "       [-15.34949519,   7.7973227 ,   9.10839199],\n",
       "       [-16.1246294 ,   7.67155943,   8.93903216],\n",
       "       [-22.6886806 ,   8.04884924,  19.54747575],\n",
       "       [-22.34209615,   9.05495539,  12.08291834],\n",
       "       [-25.80561051,   9.30648193,  19.67825192],\n",
       "       [-28.51038372,   9.93529828,  17.96340976],\n",
       "       [-23.06805118,   8.04884924,  21.01843033],\n",
       "       [-16.5367861 ,   7.92308597,   6.93554068],\n",
       "       [-20.03308658,   7.67155943,  10.51037204],\n",
       "       [-27.32309281,   9.68377174,  24.30249188],\n",
       "       [-23.82679233,   7.92308597,  20.97440683],\n",
       "       [-20.77543467,   8.04884924,  12.82890798],\n",
       "       [-15.34949519,   7.54579616,   8.24521485],\n",
       "       [-21.13841218,   8.67766558,  16.07227293],\n",
       "       [-23.82679233,   8.42613904,  22.1898923 ],\n",
       "       [-19.5717507 ,   8.67766558,  16.69488941],\n",
       "       [-18.0542684 ,   7.29426962,  13.72662907],\n",
       "       [-25.77282439,   8.55190231,  22.44808134],\n",
       "       [-24.98129712,   8.42613904,  23.41220681],\n",
       "       [-20.34688491,   8.42613904,  18.13741629],\n",
       "       [-17.27913419,   7.92308597,  13.57886791],\n",
       "       [-19.20877318,   8.1746125 ,  13.88311303],\n",
       "       [-21.89715333,   7.7973227 ,  18.03653737],\n",
       "       [-17.67489782,   7.42003289,  10.64378778]])"
      ]
     },
     "execution_count": 23,
     "metadata": {},
     "output_type": "execute_result"
    }
   ],
   "source": [
    "from sklearn.datasets import load_iris\n",
    "iris = load_iris()\n",
    "X = np.array(iris[\"data\"])\n",
    "y = np.array(iris[\"target\"])\n",
    "N = len(y)\n",
    "X = np.concatenate([np.ones(N).reshape(N, 1), X], axis=1)\n",
    "print(X.shape)\n",
    "beta = multi_lasso(X, y, 0.01)\n",
    "np.dot(X, beta.T)"
   ]
  },
  {
   "cell_type": "code",
   "execution_count": null,
   "metadata": {},
   "outputs": [],
   "source": [
    "# Run on Linux（not available for Windows, Google Colaboratory）\n",
    "import numpy as np\n",
    "import matplotlib.pyplot as plt\n",
    "import glmnet_python\n",
    "from glmnet import glmnet\n",
    "import sys\n",
    "from cvglmnet import cvglmnet\n",
    "from cvglmnetCoef import cvglmnetCoef\n",
    "from cvglmnetPlot import cvglmnetPlot"
   ]
  },
  {
   "cell_type": "code",
   "execution_count": null,
   "metadata": {},
   "outputs": [],
   "source": [
    "# put \"breastcancer.csv\" in Linux\n",
    "from sklearn.datasets import load_iris\n",
    "iris = load_iris()\n",
    "X = np.array(iris[\"data\"])\n",
    "y = np.array(iris[\"target\"], dtype=\"float64\")\n",
    "cvfit3 = cvglmnet(x=X.copy(), y=y.copy(), ptype=\"deviance\", family=\"multinomial\")\n",
    "lam_min = cvfit1[\"lambda_min\"]\n",
    "beta = cvglmnetCoef(cvfit)\n",
    "print(lam_min)\n",
    "print(beta)"
   ]
  },
  {
   "cell_type": "code",
   "execution_count": null,
   "metadata": {},
   "outputs": [],
   "source": [
    "# Make CV graph\n",
    "fig3 = plt.figure()\n",
    "cvglmnetPlot(cvfit3)\n",
    "fig3.savefig(\"img3.png\")"
   ]
  },
  {
   "cell_type": "code",
   "execution_count": null,
   "metadata": {},
   "outputs": [],
   "source": [
    "K = 3\n",
    "p = 5\n",
    "n = 150\n",
    "gamma = np.zeros((K, p))\n",
    "for k in range(K):\n",
    "    for j in range(p):\n",
    "        gamma[k, j] = np.sum(beta[k][j])\n",
    "v = np.zeros(n)\n",
    "for i in range(n):\n",
    "    max_value = -np.inf\n",
    "    for k in range(K):\n",
    "        value = gamma[k, 0] + np.dot(gamma[k, range(1, p)], X[i, :])\n",
    "        if value > max_value:\n",
    "            v[i] = k\n",
    "            max_value = value\n",
    "table_count(3, y, v)"
   ]
  },
  {
   "cell_type": "markdown",
   "metadata": {},
   "source": [
    "## 2.4 Poisson Regression"
   ]
  },
  {
   "cell_type": "code",
   "execution_count": 24,
   "metadata": {},
   "outputs": [],
   "source": [
    "def poisson_lasso(X, y, lam):\n",
    "    p = X.shape[1]   # p counts the column of all ones\n",
    "    beta = np.random.randn(p)\n",
    "    gamma = np.random.randn(p)\n",
    "    while np.sum((beta - gamma)**2) > 0.0001:\n",
    "        beta = gamma\n",
    "        s = np.dot(X, beta)\n",
    "        w = np.exp(s)\n",
    "        u = y - w\n",
    "        z = s + u / w\n",
    "        gamma_0, gamma_1 = W_linear_lasso(X[:, range(1, p)], z, np.diag(w), lam)\n",
    "        gamma = np.block([gamma_0, gamma_1]).copy()\n",
    "        print(gamma)\n",
    "    return gamma"
   ]
  },
  {
   "cell_type": "code",
   "execution_count": 27,
   "metadata": {},
   "outputs": [
    {
     "name": "stdout",
     "output_type": "stream",
     "text": [
      "[-0.06808696 -0.98073289  0.41729465 -0.1347939 ]\n"
     ]
    }
   ],
   "source": [
    "N = 100    # In case lambda is too small, the ML estimate cannot be obtained.\n",
    "p = 3\n",
    "X = np.random.randn(N, p)\n",
    "X = np.concatenate([np.ones(N).reshape(N, 1), X], axis=1)\n",
    "beta = np.random.randn(p + 1)\n",
    "s = np.dot(X, beta)\n",
    "y = np.random.poisson(lam=np.exp(s))\n",
    "print(beta)"
   ]
  },
  {
   "cell_type": "code",
   "execution_count": 28,
   "metadata": {},
   "outputs": [
    {
     "name": "stdout",
     "output_type": "stream",
     "text": [
      "[ 2.24171235 -0.0267108   0.         -0.        ]\n",
      "[ 1.42474052 -0.          0.         -0.        ]\n",
      "[ 0.83611672 -0.          0.         -0.        ]\n",
      "[ 0.57721402 -0.          0.         -0.        ]\n",
      "[ 0.53731132 -0.          0.         -0.        ]\n",
      "[ 0.5364937 -0.         0.        -0.       ]\n"
     ]
    },
    {
     "data": {
      "text/plain": [
       "array([ 0.5364937, -0.       ,  0.       , -0.       ])"
      ]
     },
     "execution_count": 28,
     "metadata": {},
     "output_type": "execute_result"
    }
   ],
   "source": [
    "poisson_lasso(X, y, 2)"
   ]
  },
  {
   "cell_type": "code",
   "execution_count": null,
   "metadata": {},
   "outputs": [],
   "source": [
    "# run on Linux （not on Windows, Google Colaboratory）\n",
    "import numpy as np\n",
    "import matplotlib.pyplot as plt\n",
    "import glmnet_python\n",
    "from glmnet import glmnet\n",
    "import sys\n",
    "from cvglmnet import cvglmnet\n",
    "from cvglmnetCoef import cvglmnetCoef\n",
    "from cvglmnetPlot import cvglmnetPlot"
   ]
  },
  {
   "cell_type": "code",
   "execution_count": null,
   "metadata": {},
   "outputs": [],
   "source": [
    "df = np.loadtxt(\"giants_2019.txt\", delimiter=\"\\t\")\n",
    "index = list(set(range(9)) - {1, 2})\n",
    "X = np.array(df[:, index])\n",
    "y = np.array(df[:, 1])\n",
    "cvfit = cvglmnet(x=X.copy(), y=y.copy(), family=\"poisson\")\n",
    "cvglmnetCoef(cvfit)"
   ]
  },
  {
   "cell_type": "markdown",
   "metadata": {},
   "source": [
    "## 2.5 Survival Analysis"
   ]
  },
  {
   "cell_type": "code",
   "execution_count": 29,
   "metadata": {},
   "outputs": [
    {
     "data": {
      "text/html": [
       "<div>\n",
       "<style scoped>\n",
       "    .dataframe tbody tr th:only-of-type {\n",
       "        vertical-align: middle;\n",
       "    }\n",
       "\n",
       "    .dataframe tbody tr th {\n",
       "        vertical-align: top;\n",
       "    }\n",
       "\n",
       "    .dataframe thead th {\n",
       "        text-align: right;\n",
       "    }\n",
       "</style>\n",
       "<table border=\"1\" class=\"dataframe\">\n",
       "  <thead>\n",
       "    <tr style=\"text-align: right;\">\n",
       "      <th></th>\n",
       "      <th>time</th>\n",
       "      <th>status</th>\n",
       "      <th>age</th>\n",
       "      <th>sex</th>\n",
       "      <th>disease</th>\n",
       "      <th>frail</th>\n",
       "    </tr>\n",
       "  </thead>\n",
       "  <tbody>\n",
       "    <tr>\n",
       "      <th>0</th>\n",
       "      <td>8</td>\n",
       "      <td>1</td>\n",
       "      <td>28</td>\n",
       "      <td>1</td>\n",
       "      <td>Other</td>\n",
       "      <td>2.3</td>\n",
       "    </tr>\n",
       "    <tr>\n",
       "      <th>1</th>\n",
       "      <td>16</td>\n",
       "      <td>1</td>\n",
       "      <td>28</td>\n",
       "      <td>1</td>\n",
       "      <td>Other</td>\n",
       "      <td>2.3</td>\n",
       "    </tr>\n",
       "    <tr>\n",
       "      <th>2</th>\n",
       "      <td>23</td>\n",
       "      <td>1</td>\n",
       "      <td>48</td>\n",
       "      <td>2</td>\n",
       "      <td>GN</td>\n",
       "      <td>1.9</td>\n",
       "    </tr>\n",
       "    <tr>\n",
       "      <th>3</th>\n",
       "      <td>13</td>\n",
       "      <td>0</td>\n",
       "      <td>48</td>\n",
       "      <td>2</td>\n",
       "      <td>GN</td>\n",
       "      <td>1.9</td>\n",
       "    </tr>\n",
       "    <tr>\n",
       "      <th>4</th>\n",
       "      <td>22</td>\n",
       "      <td>1</td>\n",
       "      <td>32</td>\n",
       "      <td>1</td>\n",
       "      <td>Other</td>\n",
       "      <td>1.2</td>\n",
       "    </tr>\n",
       "    <tr>\n",
       "      <th>...</th>\n",
       "      <td>...</td>\n",
       "      <td>...</td>\n",
       "      <td>...</td>\n",
       "      <td>...</td>\n",
       "      <td>...</td>\n",
       "      <td>...</td>\n",
       "    </tr>\n",
       "    <tr>\n",
       "      <th>71</th>\n",
       "      <td>16</td>\n",
       "      <td>0</td>\n",
       "      <td>42</td>\n",
       "      <td>2</td>\n",
       "      <td>Other</td>\n",
       "      <td>0.7</td>\n",
       "    </tr>\n",
       "    <tr>\n",
       "      <th>72</th>\n",
       "      <td>6</td>\n",
       "      <td>0</td>\n",
       "      <td>52</td>\n",
       "      <td>2</td>\n",
       "      <td>PKD</td>\n",
       "      <td>2.1</td>\n",
       "    </tr>\n",
       "    <tr>\n",
       "      <th>73</th>\n",
       "      <td>78</td>\n",
       "      <td>1</td>\n",
       "      <td>52</td>\n",
       "      <td>2</td>\n",
       "      <td>PKD</td>\n",
       "      <td>2.1</td>\n",
       "    </tr>\n",
       "    <tr>\n",
       "      <th>74</th>\n",
       "      <td>63</td>\n",
       "      <td>1</td>\n",
       "      <td>60</td>\n",
       "      <td>1</td>\n",
       "      <td>PKD</td>\n",
       "      <td>1.2</td>\n",
       "    </tr>\n",
       "    <tr>\n",
       "      <th>75</th>\n",
       "      <td>8</td>\n",
       "      <td>0</td>\n",
       "      <td>60</td>\n",
       "      <td>1</td>\n",
       "      <td>PKD</td>\n",
       "      <td>1.2</td>\n",
       "    </tr>\n",
       "  </tbody>\n",
       "</table>\n",
       "<p>76 rows × 6 columns</p>\n",
       "</div>"
      ],
      "text/plain": [
       "    time  status  age  sex disease  frail\n",
       "0      8       1   28    1   Other    2.3\n",
       "1     16       1   28    1   Other    2.3\n",
       "2     23       1   48    2      GN    1.9\n",
       "3     13       0   48    2      GN    1.9\n",
       "4     22       1   32    1   Other    1.2\n",
       "..   ...     ...  ...  ...     ...    ...\n",
       "71    16       0   42    2   Other    0.7\n",
       "72     6       0   52    2     PKD    2.1\n",
       "73    78       1   52    2     PKD    2.1\n",
       "74    63       1   60    1     PKD    1.2\n",
       "75     8       0   60    1     PKD    1.2\n",
       "\n",
       "[76 rows x 6 columns]"
      ]
     },
     "execution_count": 29,
     "metadata": {},
     "output_type": "execute_result"
    }
   ],
   "source": [
    "import pandas as pd\n",
    "df = pd.read_csv(\"kidney.csv\")\n",
    "df.drop(df.columns[0], axis=1, inplace=True)\n",
    "df"
   ]
  },
  {
   "cell_type": "code",
   "execution_count": 30,
   "metadata": {},
   "outputs": [],
   "source": [
    "def Surv(y, delta):\n",
    "    n = len(y)\n",
    "    z = []\n",
    "    for i in range(n):\n",
    "        if delta[i] == 0:\n",
    "            z.append(str(y[i]) + \"+\")\n",
    "        else:\n",
    "            z.append(str(y[i]))\n",
    "    return z"
   ]
  },
  {
   "cell_type": "code",
   "execution_count": 31,
   "metadata": {},
   "outputs": [
    {
     "name": "stdout",
     "output_type": "stream",
     "text": [
      "['8', '16', '23', '13+', '22', '28', '447', '318', '30', '12', '24', '245', '7', '9', '511', '30', '53', '196', '15', '154', '7', '333', '141', '8+', '96', '38', '149+', '70+', '536', '25+', '17', '4+', '185', '177', '292', '114', '22+', '159+', '15', '108+', '152', '562', '402', '24+', '13', '66', '39', '46+', '12', '40', '113+', '201', '132', '156', '34', '30', '2', '25', '130', '26', '27', '58', '5+', '43', '152', '30', '190', '5+', '119', '8', '54+', '16+', '6+', '78', '63', '8+']\n"
     ]
    }
   ],
   "source": [
    "y = df[\"time\"]\n",
    "delta = df[\"status\"]\n",
    "print(Surv(y, delta))"
   ]
  },
  {
   "cell_type": "code",
   "execution_count": 32,
   "metadata": {},
   "outputs": [
    {
     "data": {
      "image/png": "[encoded data removed]",
      "text/plain": [
       "<Figure size 432x288 with 1 Axes>"
      ]
     },
     "metadata": {
      "needs_background": "light"
     },
     "output_type": "display_data"
    }
   ],
   "source": [
    "from lifelines import KaplanMeierFitter\n",
    "kmf = KaplanMeierFitter()\n",
    "ax = None\n",
    "for name, group in df.groupby(\"disease\"):\n",
    "    kmf.fit(group[\"time\"], event_observed=group[\"status\"],\n",
    "            label=\"Kidney Disease：\" + str(name))\n",
    "    if ax is None:\n",
    "        ax = kmf.plot()\n",
    "    else:\n",
    "        ax = kmf.plot(ax=ax)\n",
    "plt.title(\"Kaplan-Meier Curve\")\n",
    "plt.show()"
   ]
  },
  {
   "cell_type": "code",
   "execution_count": 33,
   "metadata": {},
   "outputs": [],
   "source": [
    "def cox_lasso(X, y, delta, lam):\n",
    "    delta[0] = 1\n",
    "    n = len(y)\n",
    "    w = np.zeros(n)\n",
    "    u = np.zeros(n)\n",
    "    pi = np.zeros((n, n))\n",
    "    beta = np.random.randn(p)\n",
    "    gamma = np.zeros(p)\n",
    "    while np.sum((beta - gamma)**2) > 10**(-4):\n",
    "        beta = gamma.copy()\n",
    "        s = np.dot(X, beta)\n",
    "        v = np.exp(s)\n",
    "        for i in range(n):\n",
    "            for j in range(n):\n",
    "                pi[i, j] = v[i] / np.sum(v[j:n])\n",
    "        for i in range(n):\n",
    "            u[i] = delta[i]\n",
    "            w[i] = 0\n",
    "            for j in range(i+1):\n",
    "                if delta[j] == 1:\n",
    "                    u[i] = u[i] - pi[i, j]\n",
    "                    w[i] = w[i] + pi[i, j] * (1 - pi[i, j])\n",
    "            z = s + u / w\n",
    "        W = np.diag(w)\n",
    "        print(gamma)\n",
    "        gamma0, gamma = W_linear_lasso(X, z, W, lam=lam)\n",
    "    return gamma"
   ]
  },
  {
   "cell_type": "code",
   "execution_count": 34,
   "metadata": {},
   "outputs": [
    {
     "name": "stdout",
     "output_type": "stream",
     "text": [
      "[0. 0. 0. 0.]\n",
      "[ 0.010432   -1.71518832 -0.37390345  1.33716878]\n",
      "[ 0.01478213 -1.64157246 -0.40155686  1.37863492]\n",
      "[ 0.01616734 -1.62043703 -0.41091684  1.39632499]\n",
      "[ 0.01661315 -1.61578004 -0.4142613   1.40464894]\n"
     ]
    },
    {
     "data": {
      "text/plain": [
       "array([ 0.01676301, -1.61572413, -0.41563326,  1.40892236])"
      ]
     },
     "execution_count": 34,
     "metadata": {},
     "output_type": "execute_result"
    }
   ],
   "source": [
    "df = df.sort_values(\"time\")\n",
    "y = df[\"time\"]\n",
    "p = 4\n",
    "delta = df[\"status\"]\n",
    "X = df[[\"age\", \"sex\", \"disease\", \"frail\"]].copy()\n",
    "size_mapping = {\"GN\": 1, \"AN\": 2, \"PKD\": 3, \"Other\": 0}\n",
    "X[\"disease\"] = df[\"disease\"].map(size_mapping)\n",
    "X = np.array(X); y = np.array(y); delta = np.array(delta)\n",
    "cox_lasso(X, y, delta, 0)"
   ]
  },
  {
   "cell_type": "code",
   "execution_count": 35,
   "metadata": {},
   "outputs": [
    {
     "name": "stdout",
     "output_type": "stream",
     "text": [
      "[0. 0. 0. 0.]\n",
      "[ 0.         -1.00021319 -0.07583775  0.99765711]\n",
      "[ 0.         -0.93830037 -0.0471629   0.96658923]\n",
      "[ 0.         -0.91900008 -0.04067863  0.9537008 ]\n"
     ]
    },
    {
     "data": {
      "text/plain": [
       "array([ 0.        , -0.91340382, -0.03929811,  0.94878576])"
      ]
     },
     "execution_count": 35,
     "metadata": {},
     "output_type": "execute_result"
    }
   ],
   "source": [
    "cox_lasso(X, y, delta, 0.1)"
   ]
  },
  {
   "cell_type": "code",
   "execution_count": 36,
   "metadata": {},
   "outputs": [
    {
     "name": "stdout",
     "output_type": "stream",
     "text": [
      "[0. 0. 0. 0.]\n",
      "[ 0.         -0.51061984 -0.          0.72069946]\n",
      "[ 0.         -0.48841277 -0.          0.68736493]\n"
     ]
    },
    {
     "data": {
      "text/plain": [
       "array([ 0.        , -0.48432671, -0.        ,  0.67844288])"
      ]
     },
     "execution_count": 36,
     "metadata": {},
     "output_type": "execute_result"
    }
   ],
   "source": [
    "cox_lasso(X, y, delta, 0.2)"
   ]
  },
  {
   "cell_type": "code",
   "execution_count": null,
   "metadata": {},
   "outputs": [],
   "source": [
    "# For Linux （Not run for Windows, Google Colaboratory）\n",
    "import numpy as np\n",
    "import pandas as pd\n",
    "import matplotlib.pyplot as plt\n",
    "import glmnet_python\n",
    "from glmnet import glmnet\n",
    "from glmnetCoef import glmnetCoef\n",
    "import sys\n",
    "from cvglmnet import cvglmnet\n",
    "from cvglmnetCoef import cvglmnetCoef\n",
    "from cvglmnetPlot import cvglmnetPlot\n",
    "import os\n",
    "import rpy2.robjects as robjects\n",
    "from rpy2.robjects import pandas2ri\n",
    "from rpy2.robjects.packages import importr\n",
    "from lifelines import KaplanMeierFitter"
   ]
  },
  {
   "cell_type": "code",
   "execution_count": null,
   "metadata": {},
   "outputs": [],
   "source": [
    "# For Linux （Not run for Windows, Google Colaboratory）\n",
    "# The best coefficients （29 out of 7339 are nonzero）\n",
    "base = importr(\"base\")\n",
    "base.load(\"LymphomaData.rda\")\n",
    "w = robjects.globalenv[\"patient.data\"]\n",
    "X = np.array(w[0]).T\n",
    "y = np.array(w[1])\n",
    "delta = np.array(w[2])\n",
    "w = np.concatenate([y.reshape(240, 1), delta.reshape(240, 1)], axis=1)\n",
    "fit = glmnet(x=X.copy(), y=w.copy(), family=\"cox\")\n",
    "beta = glmnetCoef(fit, s=np.float64([0.119787]))\n",
    "print(np.sum(beta != 0))"
   ]
  },
  {
   "cell_type": "code",
   "execution_count": null,
   "metadata": {},
   "outputs": [],
   "source": [
    "# Run on Linux （Not run on Windows, Google Colaboratory）\n",
    "# Kaplan-Meier Curve\n",
    "z = np.sign(np.dot(X, beta))\n",
    "df2 = pd.DataFrame(np.concatenate([y.reshape(240, 1), delta.reshape(240, 1), z], axis=1))\n",
    "df2.columns = [\"time\", \"status\", \"sign\"]\n",
    "fig = plt.figure()\n",
    "kmf = KaplanMeierFitter()\n",
    "ax = None\n",
    "for name, group in df2.groupby(\"sign\"):\n",
    "    kmf.fit(group[\"time\"], event_observed=group[\"status\"],\n",
    "            label=\"z = \" + str(name))\n",
    "    if ax is None:\n",
    "        ax = kmf.plot()\n",
    "    else:\n",
    "        ax = kmf.plot(ax=ax)"
   ]
  },
  {
   "cell_type": "code",
   "execution_count": null,
   "metadata": {},
   "outputs": [],
   "source": [
    "plt.title(\"Kaplan-Meier Curve\")\n",
    "fig.savefig(\"img7.png\")"
   ]
  }
 ],
 "metadata": {
  "kernelspec": {
   "display_name": "Python 3",
   "language": "python",
   "name": "python3"
  },
  "language_info": {
   "codemirror_mode": {
    "name": "ipython",
    "version": 3
   },
   "file_extension": ".py",
   "mimetype": "text/x-python",
   "name": "python",
   "nbconvert_exporter": "python",
   "pygments_lexer": "ipython3",
   "version": "3.8.3"
  }
 },
 "nbformat": 4,
 "nbformat_minor": 4
}
